{
 "cells": [
  {
   "cell_type": "code",
   "execution_count": 1,
   "metadata": {
    "colab": {
     "base_uri": "https://localhost:8080/"
    },
    "id": "LYifZIlR-Z3O",
    "outputId": "98dc88dc-ef14-4500-8e69-833f85da5d3a"
   },
   "outputs": [],
   "source": [
    "import time\n",
    "from tqdm import tqdm\n",
    "import requests\n",
    "import pandas as pd\n",
    "import json\n",
    "\n",
    "errors = []\n"
   ]
  },
  {
   "cell_type": "code",
   "execution_count": 10,
   "metadata": {},
   "outputs": [],
   "source": [
    "with open('../config.json', 'r') as file:\n",
    "    config = json.load(file)"
   ]
  },
  {
   "cell_type": "code",
   "execution_count": null,
   "metadata": {
    "colab": {
     "base_uri": "https://localhost:8080/"
    },
    "id": "n4APhvdQiIad",
    "outputId": "b1e418a3-6c58-4f10-8bf7-e45f47447061"
   },
   "outputs": [],
   "source": [
    "\n",
    "collected_data = []\n",
    "errors = []\n",
    "\n",
    "def api_call(id):\n",
    "    while True:\n",
    "        response = requests.get(f\"{config['url']}{id}\")\n",
    "        if response.status_code == 429:  # Rate limit hit\n",
    "            time.sleep(1)\n",
    "            print('429', id)\n",
    "        elif response.status_code == 200:\n",
    "            collected_data.append(response.json())\n",
    "            return response.json()\n",
    "        elif response.status_code == 504:\n",
    "            print(f\"504: {id}\")\n",
    "        else:\n",
    "            errors.append({'code': response.status_code, 'id': id})\n",
    "            break\n",
    "\n",
    "def process_range(start_index, end_index, rate_limit):\n",
    "    request_count = 0\n",
    "    start_time = time.time()\n",
    "\n",
    "    for id in tqdm(range(start_index, end_index)):\n",
    "        api_call(id)\n",
    "        request_count += 1\n",
    "\n",
    "        if request_count >= rate_limit:\n",
    "            elapsed_time = time.time() - start_time\n",
    "            if elapsed_time < 60:\n",
    "                time.sleep(60 - elapsed_time)\n",
    "            request_count = 0\n",
    "            start_time = time.time()\n",
    "\n",
    "def batch_process(batch_size, total_requests, rate_limit):\n",
    "    start = 95001\n",
    "    end = start + total_requests\n",
    "    for i in range(start, end, batch_size):\n",
    "        end_index = min(i + batch_size, end)\n",
    "        process_range(i, end_index, rate_limit)\n",
    "        save_data(i, end_index)\n",
    "        collected_data.clear()\n",
    "\n",
    "def save_data(start_index, end_index):\n",
    "    df = pd.json_normalize(collected_data)\n",
    "    print(f\"Saving data from ID {start_index} to {end_index}\")\n",
    "    filename = f\"season-df-4-{start_index}-{end_index}.csv.gz\"\n",
    "    filepath = f\"{config['file_path']}{filename}\"\n",
    "    df.to_csv(filepath, index=False, compression='gzip')\n",
    "\n",
    "batch_size = 1000\n",
    "total_requests = 4999  \n",
    "rate_limit = 300  \n",
    "\n",
    "batch_process(batch_size, total_requests, rate_limit)\n"
   ]
  }
 ],
 "metadata": {
  "colab": {
   "provenance": []
  },
  "kernelspec": {
   "display_name": "Python 3 (ipykernel)",
   "language": "python",
   "name": "python3"
  },
  "language_info": {
   "codemirror_mode": {
    "name": "ipython",
    "version": 3
   },
   "file_extension": ".py",
   "mimetype": "text/x-python",
   "name": "python",
   "nbconvert_exporter": "python",
   "pygments_lexer": "ipython3",
   "version": "3.12.2"
  }
 },
 "nbformat": 4,
 "nbformat_minor": 4
}
