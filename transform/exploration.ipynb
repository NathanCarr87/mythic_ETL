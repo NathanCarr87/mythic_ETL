{
 "cells": [
  {
   "cell_type": "markdown",
   "metadata": {
    "id": "YJHPsSk6fm2V"
   },
   "source": [
    "## Imports"
   ]
  },
  {
   "cell_type": "code",
   "execution_count": 144,
   "metadata": {
    "id": "O9Uu1zZUB5-s"
   },
   "outputs": [],
   "source": [
    "import pandas as pd\n",
    "import numpy as np\n",
    "import json\n",
    "import os\n",
    "from tqdm import tqdm\n",
    "tqdm.pandas()\n",
    "\n",
    "\n",
    "import matplotlib.pyplot as plt\n",
    "from datetime import datetime\n",
    "\n"
   ]
  },
  {
   "cell_type": "code",
   "execution_count": 145,
   "metadata": {},
   "outputs": [],
   "source": [
    "with open('../config.json', 'r') as file:\n",
    "    config = json.load(file)"
   ]
  },
  {
   "cell_type": "code",
   "execution_count": 154,
   "metadata": {},
   "outputs": [],
   "source": [
    "supervised_df = pd.DataFrame([])"
   ]
  },
  {
   "cell_type": "code",
   "execution_count": 155,
   "metadata": {
    "id": "O-IU-NrJCCKw"
   },
   "outputs": [
    {
     "name": "stdout",
     "output_type": "stream",
     "text": [
      "/Users/sarahcarr/Projects/python/mythic_ETL/extract/extracted/season-df-4-36001-40000.csv.gz\n",
      "/Users/sarahcarr/Projects/python/mythic_ETL/extract/extracted/season-df-4-20001-23000.csv.gz\n",
      "/Users/sarahcarr/Projects/python/mythic_ETL/extract/extracted/season-df-4-79001-80001.csv.gz\n",
      "/Users/sarahcarr/Projects/python/mythic_ETL/extract/extracted/season-df-4-68002-69002.csv.gz\n",
      "/Users/sarahcarr/Projects/python/mythic_ETL/extract/extracted/season-df-4-103001-106000.csv.gz\n",
      "/Users/sarahcarr/Projects/python/mythic_ETL/extract/extracted/season-df-4-84001-85001.csv.gz\n",
      "/Users/sarahcarr/Projects/python/mythic_ETL/extract/extracted/season-df-4-72001-73001.csv.gz\n",
      "/Users/sarahcarr/Projects/python/mythic_ETL/extract/extracted/season-df-4-73001-74001.csv.gz\n",
      "/Users/sarahcarr/Projects/python/mythic_ETL/extract/extracted/season-df-4-98001-99001.csv.gz\n",
      "/Users/sarahcarr/Projects/python/mythic_ETL/extract/extracted/season-df-4-100001-103000.csv.gz\n",
      "/Users/sarahcarr/Projects/python/mythic_ETL/extract/extracted/season-df-4-76001-77001.csv.gz\n",
      "/Users/sarahcarr/Projects/python/mythic_ETL/extract/extracted/season-df-4-80001-81001.csv.gz\n",
      "/Users/sarahcarr/Projects/python/mythic_ETL/extract/extracted/season-df-4-43001-46000.csv.gz\n",
      "/Users/sarahcarr/Projects/python/mythic_ETL/extract/extracted/season-df-4-26001-30000.csv.gz\n",
      "/Users/sarahcarr/Projects/python/mythic_ETL/extract/extracted/season-df-4-10001-13000.csv.gz\n",
      "/Users/sarahcarr/Projects/python/mythic_ETL/extract/extracted/season-df-4-16001-20000.csv.gz\n",
      "/Users/sarahcarr/Projects/python/mythic_ETL/extract/extracted/season-df-4-97001-98001.csv.gz\n",
      "/Users/sarahcarr/Projects/python/mythic_ETL/extract/extracted/season-df-4-65002-66002.csv.gz\n",
      "/Users/sarahcarr/Projects/python/mythic_ETL/extract/extracted/season-df-4-46001-50000.csv.gz\n",
      "/Users/sarahcarr/Projects/python/mythic_ETL/extract/extracted/season-df-4-69002-70000.csv.gz\n",
      "/Users/sarahcarr/Projects/python/mythic_ETL/extract/extracted/season-df-4-99001-100000.csv.gz\n",
      "/Users/sarahcarr/Projects/python/mythic_ETL/extract/extracted/season-df-4-23001-26000.csv.gz\n",
      "/Users/sarahcarr/Projects/python/mythic_ETL/extract/extracted/season-df-4-67002-68002.csv.gz\n",
      "/Users/sarahcarr/Projects/python/mythic_ETL/extract/extracted/season-df-4-10000.csv.gz\n"
     ]
    },
    {
     "ename": "SyntaxError",
     "evalue": "invalid syntax. Perhaps you forgot a comma? (<string>, line 1)",
     "output_type": "error",
     "traceback": [
      "Traceback \u001b[0;36m(most recent call last)\u001b[0m:\n",
      "\u001b[0m  File \u001b[1;32m/opt/homebrew/anaconda3/envs/mythic-mining/lib/python3.12/site-packages/IPython/core/interactiveshell.py:3577\u001b[0m in \u001b[1;35mrun_code\u001b[0m\n    exec(code_obj, self.user_global_ns, self.user_ns)\u001b[0m\n",
      "\u001b[0m  Cell \u001b[1;32mIn[155], line 11\u001b[0m\n    df = cleanup(dirty_df)\u001b[0m\n",
      "\u001b[0m  Cell \u001b[1;32mIn[149], line 3\u001b[0m in \u001b[1;35mcleanup\u001b[0m\n    df['TankClass'] = df['roster'].apply(extract_tank_class)\u001b[0m\n",
      "\u001b[0m  File \u001b[1;32m/opt/homebrew/anaconda3/envs/mythic-mining/lib/python3.12/site-packages/pandas/core/series.py:4924\u001b[0m in \u001b[1;35mapply\u001b[0m\n    ).apply()\u001b[0m\n",
      "\u001b[0m  File \u001b[1;32m/opt/homebrew/anaconda3/envs/mythic-mining/lib/python3.12/site-packages/pandas/core/apply.py:1427\u001b[0m in \u001b[1;35mapply\u001b[0m\n    return self.apply_standard()\u001b[0m\n",
      "\u001b[0m  File \u001b[1;32m/opt/homebrew/anaconda3/envs/mythic-mining/lib/python3.12/site-packages/pandas/core/apply.py:1507\u001b[0m in \u001b[1;35mapply_standard\u001b[0m\n    mapped = obj._map_values(\u001b[0m\n",
      "\u001b[0m  File \u001b[1;32m/opt/homebrew/anaconda3/envs/mythic-mining/lib/python3.12/site-packages/pandas/core/base.py:921\u001b[0m in \u001b[1;35m_map_values\u001b[0m\n    return algorithms.map_array(arr, mapper, na_action=na_action, convert=convert)\u001b[0m\n",
      "\u001b[0m  File \u001b[1;32m/opt/homebrew/anaconda3/envs/mythic-mining/lib/python3.12/site-packages/pandas/core/algorithms.py:1743\u001b[0m in \u001b[1;35mmap_array\u001b[0m\n    return lib.map_infer(values, mapper, convert=convert)\u001b[0m\n",
      "\u001b[0m  File \u001b[1;32mlib.pyx:2972\u001b[0m in \u001b[1;35mpandas._libs.lib.map_infer\u001b[0m\n",
      "\u001b[0;36m  Cell \u001b[0;32mIn[77], line 2\u001b[0;36m in \u001b[0;35mextract_tank_class\u001b[0;36m\n\u001b[0;31m    for r in eval(x):\u001b[0;36m\n",
      "\u001b[0;36m  File \u001b[0;32m<string>:1\u001b[0;36m\u001b[0m\n\u001b[0;31m    [{'character': {'anonymized': None, 'class': {'id': 5, 'name': 'Priest', 'slug': 'priest'}, 'faction': 'horde', 'id': 217219090, 'level': 70, 'name': '唐瑶瑶', 'path': '/characters/us/fyrakk/唐瑶瑶', 'persona_id': 0, 'race': {'faction': 'horde', 'id': 2, 'name': 'Orc', 'slug': 'orc'}, 'realm': {'altName': None, 'altSlug': 'fyrakk', 'anonymized': None, 'connectedRealmId': 811, 'id': 2586, 'isConnected': True, 'locale': 'en_US', 'name': 'Fyrakk', 'realmType': 'ptr', 'slug': 'fyrakk', 'wowConnectedRealmId': 5764.0, 'wowRealmId': None}, 'recruitmentProfiles': array([], dtype=object), 'region': {'name': 'United States & Oceania', 'short_name': 'US', 'slug': 'us'}, 'spec': {'class_id': None, 'id': 257, 'is_melee': False, 'name': 'Holy', 'patch': None, 'role': 'healer', 'slug': 'holy'}, 'stream': None, 'talentLoadout': {'loadout': array([{'entryIndex': 1, 'node': {'col': 12, 'entries': array([{'id': 103736, 'maxRanks': 1, 'spell': {'hasCooldown': False, 'icon': 'inv_staff_2h_artifactheartofkure_d_04', 'id': 392988, 'name': 'Divine Image', 'rank': None, 'school': 1}, 'traitDefinitionId': 108741, 'type': 2},\u001b[0m\n\u001b[0m     ^\u001b[0m\n\u001b[0;31mSyntaxError\u001b[0m\u001b[0;31m:\u001b[0m invalid syntax. Perhaps you forgot a comma?\n"
     ]
    }
   ],
   "source": [
    "for filename in os.listdir(config['extracted_file_path']):\n",
    "    if 'gz'not in filename:\n",
    "        continue\n",
    "    file_path = os.path.join(config['extracted_file_path'], filename)\n",
    "    \n",
    "    # Check if it is a file (and not a directory)\n",
    "    if os.path.isfile(file_path):\n",
    "        print(file_path)\n",
    "        dirty_df = pd.read_csv(file_path)\n",
    "# dirty_df = pd.read_csv(f\"{config['extracted_file_path']}/season-df-4-40001-43000.csv.gz\")\n",
    "        df = cleanup(dirty_df)\n",
    "        temp_df = df[['Success','TankClass','HealerClass','DpsClass','NumberOfDeaths','TotalTimeTaken','dungeon.name']].copy()\n",
    "        supervised_df = pd.concat([supervised_df, temp_df], ignore_index=True)\n"
   ]
  },
  {
   "cell_type": "markdown",
   "metadata": {
    "id": "ktSSJ8zFWzan"
   },
   "source": [
    "# Data Cleanup"
   ]
  },
  {
   "cell_type": "code",
   "execution_count": 77,
   "metadata": {
    "id": "PjHsYCwHMIlE"
   },
   "outputs": [],
   "source": [
    "def extract_tank_class(x):\n",
    "    for r in eval(x):\n",
    "        if r['character']['spec']['role'] == 'tank':\n",
    "            return r['character']['class']['slug']\n"
   ]
  },
  {
   "cell_type": "code",
   "execution_count": 78,
   "metadata": {
    "id": "r14aHIClPAaJ"
   },
   "outputs": [],
   "source": [
    "def extract_healer_class(x):\n",
    "    for r in eval(x):\n",
    "        if r['character']['spec']['role'] == 'healer':\n",
    "            return r['character']['class']['slug']"
   ]
  },
  {
   "cell_type": "code",
   "execution_count": 79,
   "metadata": {
    "id": "jjm4n9LLWmBl"
   },
   "outputs": [],
   "source": [
    "def extract_dps_class(x):\n",
    "    class_list = []\n",
    "    for r in eval(x):\n",
    "        if r['character']['spec']['role'] == 'dps':\n",
    "            class_list.append(r['character']['class']['slug'])\n",
    "\n",
    "    class_list.sort()\n",
    "    return class_list"
   ]
  },
  {
   "cell_type": "code",
   "execution_count": 106,
   "metadata": {},
   "outputs": [],
   "source": [
    "def extract_success(x):\n",
    "    if x['time_remaining_ms'] > 0:\n",
    "        encounters = eval(x['logged_details.encounters'])\n",
    "        if len(encounters) >= x['dungeon.num_bosses']:\n",
    "            counter = 0\n",
    "            for enc in encounters:\n",
    "                if enc['is_success']:\n",
    "                    counter+=1\n",
    "            if counter >= x['dungeon.num_bosses']:\n",
    "                return True\n",
    "    return False"
   ]
  },
  {
   "cell_type": "code",
   "execution_count": 81,
   "metadata": {
    "id": "nDGLkd5PCJHg"
   },
   "outputs": [],
   "source": [
    "def calculate_num_deaths(x):\n",
    "    if x == []:\n",
    "        return 0\n",
    "    elif type(x) == str:\n",
    "        return len(eval(x))\n",
    "    else:\n",
    "        return 0"
   ]
  },
  {
   "cell_type": "code",
   "execution_count": 149,
   "metadata": {},
   "outputs": [],
   "source": [
    "def cleanup(dataframe):\n",
    "    df = dataframe.dropna(subset=['logged_details.enemies', 'logged_details.encounters', 'logged_details.deaths']).copy()\n",
    "    df['TankClass'] = df['roster'].apply(extract_tank_class)\n",
    "    df['HealerClass'] = df['roster'].apply(extract_healer_class)\n",
    "    df['DpsClass'] = df['roster'].apply(extract_dps_class)\n",
    "    df['Success'] = df.apply(extract_success, axis=1)\n",
    "    df['NumberOfDeaths'] = df['logged_details.deaths'].apply(calculate_num_deaths)\n",
    "    df['TotalTimeTaken'] = df['clear_time_ms']/60000\n",
    "    return df\n"
   ]
  },
  {
   "cell_type": "markdown",
   "metadata": {},
   "source": [
    "## Supervised Learning\n",
    "Success, TankClass, HealerClass, DpsClass, NumberOfDeaths, TotalTimeTaken, dungeon.name"
   ]
  },
  {
   "cell_type": "code",
   "execution_count": 156,
   "metadata": {},
   "outputs": [
    {
     "data": {
      "text/plain": [
       "Success           24739\n",
       "TankClass         24739\n",
       "HealerClass       24723\n",
       "DpsClass          24739\n",
       "NumberOfDeaths    24739\n",
       "TotalTimeTaken    24739\n",
       "dungeon.name      24739\n",
       "dtype: int64"
      ]
     },
     "execution_count": 156,
     "metadata": {},
     "output_type": "execute_result"
    }
   ],
   "source": [
    "supervised_df.count()"
   ]
  },
  {
   "cell_type": "code",
   "execution_count": 157,
   "metadata": {},
   "outputs": [
    {
     "data": {
      "text/html": [
       "<div>\n",
       "<style scoped>\n",
       "    .dataframe tbody tr th:only-of-type {\n",
       "        vertical-align: middle;\n",
       "    }\n",
       "\n",
       "    .dataframe tbody tr th {\n",
       "        vertical-align: top;\n",
       "    }\n",
       "\n",
       "    .dataframe thead th {\n",
       "        text-align: right;\n",
       "    }\n",
       "</style>\n",
       "<table border=\"1\" class=\"dataframe\">\n",
       "  <thead>\n",
       "    <tr style=\"text-align: right;\">\n",
       "      <th></th>\n",
       "      <th>NumberOfDeaths</th>\n",
       "      <th>TotalTimeTaken</th>\n",
       "    </tr>\n",
       "  </thead>\n",
       "  <tbody>\n",
       "    <tr>\n",
       "      <th>count</th>\n",
       "      <td>24739.000000</td>\n",
       "      <td>24739.000000</td>\n",
       "    </tr>\n",
       "    <tr>\n",
       "      <th>mean</th>\n",
       "      <td>7.881644</td>\n",
       "      <td>26.095941</td>\n",
       "    </tr>\n",
       "    <tr>\n",
       "      <th>std</th>\n",
       "      <td>7.911011</td>\n",
       "      <td>7.277763</td>\n",
       "    </tr>\n",
       "    <tr>\n",
       "      <th>min</th>\n",
       "      <td>0.000000</td>\n",
       "      <td>9.898483</td>\n",
       "    </tr>\n",
       "    <tr>\n",
       "      <th>25%</th>\n",
       "      <td>2.000000</td>\n",
       "      <td>21.024067</td>\n",
       "    </tr>\n",
       "    <tr>\n",
       "      <th>50%</th>\n",
       "      <td>6.000000</td>\n",
       "      <td>24.968750</td>\n",
       "    </tr>\n",
       "    <tr>\n",
       "      <th>75%</th>\n",
       "      <td>11.000000</td>\n",
       "      <td>29.798800</td>\n",
       "    </tr>\n",
       "    <tr>\n",
       "      <th>max</th>\n",
       "      <td>108.000000</td>\n",
       "      <td>108.676750</td>\n",
       "    </tr>\n",
       "  </tbody>\n",
       "</table>\n",
       "</div>"
      ],
      "text/plain": [
       "       NumberOfDeaths  TotalTimeTaken\n",
       "count    24739.000000    24739.000000\n",
       "mean         7.881644       26.095941\n",
       "std          7.911011        7.277763\n",
       "min          0.000000        9.898483\n",
       "25%          2.000000       21.024067\n",
       "50%          6.000000       24.968750\n",
       "75%         11.000000       29.798800\n",
       "max        108.000000      108.676750"
      ]
     },
     "execution_count": 157,
     "metadata": {},
     "output_type": "execute_result"
    }
   ],
   "source": [
    "supervised_df.describe()"
   ]
  },
  {
   "cell_type": "code",
   "execution_count": 158,
   "metadata": {},
   "outputs": [
    {
     "data": {
      "text/html": [
       "<div>\n",
       "<style scoped>\n",
       "    .dataframe tbody tr th:only-of-type {\n",
       "        vertical-align: middle;\n",
       "    }\n",
       "\n",
       "    .dataframe tbody tr th {\n",
       "        vertical-align: top;\n",
       "    }\n",
       "\n",
       "    .dataframe thead th {\n",
       "        text-align: right;\n",
       "    }\n",
       "</style>\n",
       "<table border=\"1\" class=\"dataframe\">\n",
       "  <thead>\n",
       "    <tr style=\"text-align: right;\">\n",
       "      <th></th>\n",
       "      <th>Success</th>\n",
       "      <th>TankClass</th>\n",
       "      <th>HealerClass</th>\n",
       "      <th>DpsClass</th>\n",
       "      <th>NumberOfDeaths</th>\n",
       "      <th>TotalTimeTaken</th>\n",
       "      <th>dungeon.name</th>\n",
       "    </tr>\n",
       "  </thead>\n",
       "  <tbody>\n",
       "    <tr>\n",
       "      <th>0</th>\n",
       "      <td>True</td>\n",
       "      <td>paladin</td>\n",
       "      <td>priest</td>\n",
       "      <td>[demon-hunter, hunter, warlock]</td>\n",
       "      <td>2</td>\n",
       "      <td>21.138500</td>\n",
       "      <td>Halls of Infusion</td>\n",
       "    </tr>\n",
       "    <tr>\n",
       "      <th>1</th>\n",
       "      <td>True</td>\n",
       "      <td>demon-hunter</td>\n",
       "      <td>druid</td>\n",
       "      <td>[monk, paladin, paladin]</td>\n",
       "      <td>4</td>\n",
       "      <td>19.361667</td>\n",
       "      <td>Halls of Infusion</td>\n",
       "    </tr>\n",
       "    <tr>\n",
       "      <th>2</th>\n",
       "      <td>True</td>\n",
       "      <td>demon-hunter</td>\n",
       "      <td>druid</td>\n",
       "      <td>[hunter, monk, paladin]</td>\n",
       "      <td>3</td>\n",
       "      <td>20.258850</td>\n",
       "      <td>Algeth'ar Academy</td>\n",
       "    </tr>\n",
       "    <tr>\n",
       "      <th>3</th>\n",
       "      <td>True</td>\n",
       "      <td>paladin</td>\n",
       "      <td>druid</td>\n",
       "      <td>[mage, shaman, warlock]</td>\n",
       "      <td>1</td>\n",
       "      <td>24.897383</td>\n",
       "      <td>Uldaman: Legacy of Tyr</td>\n",
       "    </tr>\n",
       "    <tr>\n",
       "      <th>4</th>\n",
       "      <td>True</td>\n",
       "      <td>demon-hunter</td>\n",
       "      <td>druid</td>\n",
       "      <td>[demon-hunter, evoker, mage]</td>\n",
       "      <td>4</td>\n",
       "      <td>15.684633</td>\n",
       "      <td>Ruby Life Pools</td>\n",
       "    </tr>\n",
       "  </tbody>\n",
       "</table>\n",
       "</div>"
      ],
      "text/plain": [
       "   Success     TankClass HealerClass                         DpsClass  \\\n",
       "0     True       paladin      priest  [demon-hunter, hunter, warlock]   \n",
       "1     True  demon-hunter       druid         [monk, paladin, paladin]   \n",
       "2     True  demon-hunter       druid          [hunter, monk, paladin]   \n",
       "3     True       paladin       druid          [mage, shaman, warlock]   \n",
       "4     True  demon-hunter       druid     [demon-hunter, evoker, mage]   \n",
       "\n",
       "   NumberOfDeaths  TotalTimeTaken            dungeon.name  \n",
       "0               2       21.138500       Halls of Infusion  \n",
       "1               4       19.361667       Halls of Infusion  \n",
       "2               3       20.258850       Algeth'ar Academy  \n",
       "3               1       24.897383  Uldaman: Legacy of Tyr  \n",
       "4               4       15.684633         Ruby Life Pools  "
      ]
     },
     "execution_count": 158,
     "metadata": {},
     "output_type": "execute_result"
    }
   ],
   "source": [
    "supervised_df.head()"
   ]
  },
  {
   "cell_type": "code",
   "execution_count": 159,
   "metadata": {},
   "outputs": [
    {
     "data": {
      "text/plain": [
       "'/Users/sarahcarr/Projects/python/mythic_ETL/transform/cleaned_supervised'"
      ]
     },
     "execution_count": 159,
     "metadata": {},
     "output_type": "execute_result"
    }
   ],
   "source": [
    "config['cleaned_supervised']"
   ]
  },
  {
   "cell_type": "code",
   "execution_count": 161,
   "metadata": {},
   "outputs": [],
   "source": [
    "supervised_df.to_csv(config['cleaned_supervised'] + '/supervised_data.csv.gz', index=False, compression='gzip')"
   ]
  },
  {
   "cell_type": "code",
   "execution_count": null,
   "metadata": {},
   "outputs": [],
   "source": []
  }
 ],
 "metadata": {
  "colab": {
   "provenance": []
  },
  "kernelspec": {
   "display_name": "Python 3 (ipykernel)",
   "language": "python",
   "name": "python3"
  },
  "language_info": {
   "codemirror_mode": {
    "name": "ipython",
    "version": 3
   },
   "file_extension": ".py",
   "mimetype": "text/x-python",
   "name": "python",
   "nbconvert_exporter": "python",
   "pygments_lexer": "ipython3",
   "version": "3.12.2"
  }
 },
 "nbformat": 4,
 "nbformat_minor": 4
}
