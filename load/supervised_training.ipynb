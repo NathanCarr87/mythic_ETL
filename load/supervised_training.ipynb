{
  "cells": [
    {
      "cell_type": "code",
      "execution_count": 2,
      "id": "283da4df-ff90-48b3-8177-a2bd125935b7",
      "metadata": {
        "id": "283da4df-ff90-48b3-8177-a2bd125935b7"
      },
      "outputs": [],
      "source": [
        "import pandas as pd\n",
        "import json\n",
        "import numpy as np\n",
        "from sklearn.linear_model import LogisticRegression\n",
        "from sklearn.model_selection import train_test_split, GridSearchCV, cross_val_score, learning_curve\n",
        "from sklearn.metrics import accuracy_score, classification_report,precision_score, recall_score\n",
        "import matplotlib.pyplot as plt\n",
        "from sklearn.decomposition import PCA\n",
        "from sklearn.svm import SVC\n",
        "from sklearn.preprocessing import StandardScaler\n",
        "from sklearn.pipeline import Pipeline\n",
        "from sklearn.tree import DecisionTreeClassifier\n",
        "from sklearn.neighbors import KNeighborsClassifier\n",
        "from sklearn.metrics import classification_report\n"
      ]
    },
    {
      "cell_type": "code",
      "execution_count": 3,
      "id": "8e4aadea-3123-4dc7-9e12-9bd74ed5a279",
      "metadata": {
        "colab": {
          "base_uri": "https://localhost:8080/",
          "height": 162
        },
        "id": "8e4aadea-3123-4dc7-9e12-9bd74ed5a279",
        "outputId": "2428e3d1-9c70-4e69-bef5-9da1fe6d77be"
      },
      "outputs": [],
      "source": [
        "with open('../config.json', 'r') as file:\n",
        "    config = json.load(file)"
      ]
    },
    {
      "cell_type": "code",
      "execution_count": 4,
      "id": "17360b82-8662-47f0-864d-d9065d0866f1",
      "metadata": {
        "colab": {
          "base_uri": "https://localhost:8080/",
          "height": 144
        },
        "id": "17360b82-8662-47f0-864d-d9065d0866f1",
        "outputId": "71fd6b9a-88a0-49ec-cc22-8c94e0741211"
      },
      "outputs": [],
      "source": [
        "df = pd.read_csv(config['cleaned_supervised']+ '/supervised_data.csv.gz')"
      ]
    },
    {
      "cell_type": "code",
      "execution_count": 5,
      "id": "5cfabe8a-46e3-4add-aeef-f090d1e2cfe4",
      "metadata": {
        "id": "5cfabe8a-46e3-4add-aeef-f090d1e2cfe4"
      },
      "outputs": [],
      "source": [
        "def extract_dps_one(x):\n",
        "    return eval(x)[0]\n",
        "def extract_dps_two(x):\n",
        "    return eval(x)[1]\n",
        "def extract_dps_three(x):\n",
        "    try:\n",
        "        return eval(x)[2]\n",
        "    except:\n",
        "        return 0\n"
      ]
    },
    {
      "cell_type": "code",
      "execution_count": 6,
      "id": "60592d23-b6e4-4085-92de-0a5cb5d4be14",
      "metadata": {
        "id": "60592d23-b6e4-4085-92de-0a5cb5d4be14"
      },
      "outputs": [],
      "source": [
        "df['DpsOne']=df['DpsClass'].apply(extract_dps_one)"
      ]
    },
    {
      "cell_type": "code",
      "execution_count": 7,
      "id": "f981e88c-022f-4285-a7d2-8fefc7259b44",
      "metadata": {
        "id": "f981e88c-022f-4285-a7d2-8fefc7259b44"
      },
      "outputs": [],
      "source": [
        "df['DpsTwo']=df['DpsClass'].apply(extract_dps_two)"
      ]
    },
    {
      "cell_type": "code",
      "execution_count": 8,
      "id": "0b9e76cf-28da-4d91-8662-7d46411bb3d1",
      "metadata": {
        "id": "0b9e76cf-28da-4d91-8662-7d46411bb3d1"
      },
      "outputs": [],
      "source": [
        "df['DpsThree']=df['DpsClass'].apply(extract_dps_three)"
      ]
    },
    {
      "cell_type": "code",
      "execution_count": 10,
      "id": "800a707e-ae6b-49e5-b3fa-5adc1f79f191",
      "metadata": {
        "id": "800a707e-ae6b-49e5-b3fa-5adc1f79f191"
      },
      "outputs": [],
      "source": [
        "dps_mapping = {\n",
        "    'hunter':1,\n",
        "    'demon-hunter':2,\n",
        "    'evoker':3,\n",
        "    'mage':4,\n",
        "    'druid':5,\n",
        "    'paladin':6,\n",
        "    'death-knight':7,\n",
        "    'monk':8,\n",
        "    'priest':9,\n",
        "    'rogue':10,\n",
        "    'shaman':11,\n",
        "    'warlock':12,\n",
        "    'warrior':13,\n",
        "    0:0\n",
        "}\n"
      ]
    },
    {
      "cell_type": "code",
      "execution_count": 11,
      "id": "969b30d8-21a3-4727-9235-12511d67e02b",
      "metadata": {
        "id": "969b30d8-21a3-4727-9235-12511d67e02b"
      },
      "outputs": [],
      "source": [
        "df['DpsOne'] = df['DpsOne'].map(dps_mapping)"
      ]
    },
    {
      "cell_type": "code",
      "execution_count": 12,
      "id": "a054c240-8906-4c1e-b27d-d18f09e32284",
      "metadata": {
        "id": "a054c240-8906-4c1e-b27d-d18f09e32284"
      },
      "outputs": [],
      "source": [
        "df['DpsTwo'] = df['DpsTwo'].map(dps_mapping)"
      ]
    },
    {
      "cell_type": "code",
      "execution_count": 13,
      "id": "6e22af7c-760e-4d4a-a176-0efb4f1270cf",
      "metadata": {
        "id": "6e22af7c-760e-4d4a-a176-0efb4f1270cf"
      },
      "outputs": [],
      "source": [
        "df['DpsThree'] = df['DpsThree'].map(dps_mapping)"
      ]
    },
    {
      "cell_type": "code",
      "execution_count": 14,
      "id": "612d04ba-e3f6-4761-a771-fef42cdb15aa",
      "metadata": {
        "id": "612d04ba-e3f6-4761-a771-fef42cdb15aa"
      },
      "outputs": [],
      "source": [
        "tank_mapping = {\n",
        "    'demon-hunter':6,\n",
        "    'paladin':5,\n",
        "    'death-knight':4,\n",
        "    'druid':3,\n",
        "    'monk':2,\n",
        "    'warrior':1\n",
        "}\n",
        "df['TankClass'] = df['TankClass'].map(tank_mapping)"
      ]
    },
    {
      "cell_type": "code",
      "execution_count": 15,
      "id": "ee0177d4-46cc-49f9-8b98-1b172855e1a9",
      "metadata": {
        "colab": {
          "base_uri": "https://localhost:8080/"
        },
        "id": "ee0177d4-46cc-49f9-8b98-1b172855e1a9",
        "outputId": "9b4d2e04-280a-4b4b-8849-fc19862b92ef"
      },
      "outputs": [
        {
          "data": {
            "text/plain": [
              "array(['priest', 'druid', 'paladin', 'evoker', 'shaman', 'monk', nan],\n",
              "      dtype=object)"
            ]
          },
          "execution_count": 15,
          "metadata": {},
          "output_type": "execute_result"
        }
      ],
      "source": [
        "df['HealerClass'].unique()"
      ]
    },
    {
      "cell_type": "code",
      "execution_count": 16,
      "id": "cdef9efc-bf70-497d-b1fa-61d31bc12531",
      "metadata": {
        "id": "cdef9efc-bf70-497d-b1fa-61d31bc12531"
      },
      "outputs": [],
      "source": [
        "healer_mapping = {\n",
        "    'priest':6,\n",
        "    'druid':5,\n",
        "    'monk':4,\n",
        "    'shaman':3,\n",
        "    'evoker':2,\n",
        "    'paladin':1,\n",
        "    np.nan: 6\n",
        "}\n",
        "df['HealerClass'] = df['HealerClass'].map(healer_mapping)"
      ]
    },
    {
      "cell_type": "code",
      "execution_count": 17,
      "id": "911b95bb-712d-47dd-9abb-3392631806fd",
      "metadata": {
        "id": "911b95bb-712d-47dd-9abb-3392631806fd"
      },
      "outputs": [],
      "source": [
        "dungeon_name_mapping = {\n",
        "    \"Algeth'ar Academy\":8,\n",
        "    \"Ruby Life Pools\":7,\n",
        "    \"Brackenhide Hollow\":6,\n",
        "    \"The Nokhud Offensive\":5,\n",
        "    \"Neltharus\":4,\n",
        "    \"The Azure Vault\":3,\n",
        "    \"Halls of Infusion\":2,\n",
        "    \"Uldaman: Legacy of Tyr\":1\n",
        "}\n",
        "df['dungeon.name'] = df['dungeon.name'].map(dungeon_name_mapping)"
      ]
    },
    {
      "cell_type": "code",
      "execution_count": 18,
      "id": "0cefbf7e-e5e6-492e-9125-1ec260f6b5ee",
      "metadata": {
        "id": "0cefbf7e-e5e6-492e-9125-1ec260f6b5ee"
      },
      "outputs": [],
      "source": [
        "df = df.drop(['DpsClass'],axis=1)"
      ]
    },
    {
      "cell_type": "code",
      "execution_count": 19,
      "id": "5bd09c42-f753-46cd-8b1a-47c2aa3293eb",
      "metadata": {
        "id": "5bd09c42-f753-46cd-8b1a-47c2aa3293eb"
      },
      "outputs": [],
      "source": [
        "df['Success'] = df['Success'].apply(lambda x : 1 if x else 0)"
      ]
    },
    {
      "cell_type": "code",
      "execution_count": 20,
      "id": "2ae56980-5ebd-4534-9c6a-e5ed904a0570",
      "metadata": {
        "colab": {
          "base_uri": "https://localhost:8080/",
          "height": 206
        },
        "id": "2ae56980-5ebd-4534-9c6a-e5ed904a0570",
        "outputId": "1bf07fed-b7d7-46eb-a469-981ee37a2519"
      },
      "outputs": [
        {
          "data": {
            "text/html": [
              "<div>\n",
              "<style scoped>\n",
              "    .dataframe tbody tr th:only-of-type {\n",
              "        vertical-align: middle;\n",
              "    }\n",
              "\n",
              "    .dataframe tbody tr th {\n",
              "        vertical-align: top;\n",
              "    }\n",
              "\n",
              "    .dataframe thead th {\n",
              "        text-align: right;\n",
              "    }\n",
              "</style>\n",
              "<table border=\"1\" class=\"dataframe\">\n",
              "  <thead>\n",
              "    <tr style=\"text-align: right;\">\n",
              "      <th></th>\n",
              "      <th>Success</th>\n",
              "      <th>TankClass</th>\n",
              "      <th>HealerClass</th>\n",
              "      <th>NumberOfDeaths</th>\n",
              "      <th>TotalTimeTaken</th>\n",
              "      <th>dungeon.name</th>\n",
              "      <th>DpsOne</th>\n",
              "      <th>DpsTwo</th>\n",
              "      <th>DpsThree</th>\n",
              "    </tr>\n",
              "  </thead>\n",
              "  <tbody>\n",
              "    <tr>\n",
              "      <th>0</th>\n",
              "      <td>1</td>\n",
              "      <td>5</td>\n",
              "      <td>6</td>\n",
              "      <td>2</td>\n",
              "      <td>21.138500</td>\n",
              "      <td>2</td>\n",
              "      <td>2</td>\n",
              "      <td>1</td>\n",
              "      <td>12</td>\n",
              "    </tr>\n",
              "    <tr>\n",
              "      <th>1</th>\n",
              "      <td>1</td>\n",
              "      <td>6</td>\n",
              "      <td>5</td>\n",
              "      <td>4</td>\n",
              "      <td>19.361667</td>\n",
              "      <td>2</td>\n",
              "      <td>8</td>\n",
              "      <td>6</td>\n",
              "      <td>6</td>\n",
              "    </tr>\n",
              "    <tr>\n",
              "      <th>2</th>\n",
              "      <td>1</td>\n",
              "      <td>6</td>\n",
              "      <td>5</td>\n",
              "      <td>3</td>\n",
              "      <td>20.258850</td>\n",
              "      <td>8</td>\n",
              "      <td>1</td>\n",
              "      <td>8</td>\n",
              "      <td>6</td>\n",
              "    </tr>\n",
              "    <tr>\n",
              "      <th>3</th>\n",
              "      <td>1</td>\n",
              "      <td>5</td>\n",
              "      <td>5</td>\n",
              "      <td>1</td>\n",
              "      <td>24.897383</td>\n",
              "      <td>1</td>\n",
              "      <td>4</td>\n",
              "      <td>11</td>\n",
              "      <td>12</td>\n",
              "    </tr>\n",
              "    <tr>\n",
              "      <th>4</th>\n",
              "      <td>1</td>\n",
              "      <td>6</td>\n",
              "      <td>5</td>\n",
              "      <td>4</td>\n",
              "      <td>15.684633</td>\n",
              "      <td>7</td>\n",
              "      <td>2</td>\n",
              "      <td>3</td>\n",
              "      <td>4</td>\n",
              "    </tr>\n",
              "  </tbody>\n",
              "</table>\n",
              "</div>"
            ],
            "text/plain": [
              "   Success  TankClass  HealerClass  NumberOfDeaths  TotalTimeTaken  \\\n",
              "0        1          5            6               2       21.138500   \n",
              "1        1          6            5               4       19.361667   \n",
              "2        1          6            5               3       20.258850   \n",
              "3        1          5            5               1       24.897383   \n",
              "4        1          6            5               4       15.684633   \n",
              "\n",
              "   dungeon.name  DpsOne  DpsTwo  DpsThree  \n",
              "0             2       2       1        12  \n",
              "1             2       8       6         6  \n",
              "2             8       1       8         6  \n",
              "3             1       4      11        12  \n",
              "4             7       2       3         4  "
            ]
          },
          "execution_count": 20,
          "metadata": {},
          "output_type": "execute_result"
        }
      ],
      "source": [
        "df.head()"
      ]
    },
    {
      "cell_type": "code",
      "execution_count": 21,
      "id": "b706cb95-31f3-4038-a9b6-7a674d452561",
      "metadata": {
        "id": "b706cb95-31f3-4038-a9b6-7a674d452561"
      },
      "outputs": [],
      "source": [
        "train_df, test_df = train_test_split(df, test_size=0.2, random_state=42)\n",
        "\n"
      ]
    },
    {
      "cell_type": "code",
      "execution_count": 22,
      "id": "911f28aa-ca31-48ae-b7f4-d86a8c6b8459",
      "metadata": {
        "id": "911f28aa-ca31-48ae-b7f4-d86a8c6b8459"
      },
      "outputs": [],
      "source": [
        "X_train = train_df[['TankClass', 'HealerClass', 'NumberOfDeaths','dungeon.name','DpsOne','DpsTwo','DpsThree']]\n",
        "y_train = train_df['Success']\n",
        "X_test = test_df[['TankClass', 'HealerClass', 'NumberOfDeaths','dungeon.name','DpsOne','DpsTwo','DpsThree']]\n",
        "y_test = test_df['Success']"
      ]
    },
    {
      "cell_type": "code",
      "execution_count": 23,
      "id": "Ou_PyP2t_B-l",
      "metadata": {
        "id": "Ou_PyP2t_B-l"
      },
      "outputs": [],
      "source": [
        "param_grids = {\n",
        "    'Logistic Regression': {\n",
        "        'classifier__C': [0.1, 1, 10, 100],\n",
        "\n",
        "        'classifier__solver': ['newton-cg', 'lbfgs', 'liblinear', 'sag', 'saga'],\n",
        "    },\n",
        "    'Decision Tree': {\n",
        "        'classifier__max_depth': [None, 10, 20, 30, 40, 50],\n",
        "        'classifier__min_samples_split': [2, 5, 10, 20],\n",
        "        'classifier__min_samples_leaf': [1, 2, 4, 6, 8],\n",
        "        'classifier__splitter': ['best', 'random'],\n",
        "        'classifier__criterion': ['gini', 'entropy', 'log_loss']\n",
        "    },\n",
        "    'SVM': {\n",
        "        'classifier__C': [0.1, 1, 10, 100],\n",
        "        'classifier__kernel': ['linear', 'rbf'],\n",
        "        'classifier__gamma': ['scale', 'auto']\n",
        "    },\n",
        "    'KNN': {\n",
        "        'classifier__n_neighbors': [3, 5, 7, 9, 11],\n",
        "        'classifier__weights': ['uniform', 'distance'],\n",
        "        'classifier__metric': ['euclidean', 'manhattan']\n",
        "    }\n",
        "}"
      ]
    },
    {
      "cell_type": "code",
      "execution_count": 24,
      "id": "TucNCXqn_Uwr",
      "metadata": {
        "id": "TucNCXqn_Uwr"
      },
      "outputs": [],
      "source": [
        "classifiers = [\n",
        "    ('Logistic Regression', LogisticRegression(max_iter=200)),\n",
        "    ('Decision Tree', DecisionTreeClassifier()),\n",
        "    ('SVM', SVC()),\n",
        "    ('KNN', KNeighborsClassifier())\n",
        "]"
      ]
    },
    {
      "cell_type": "code",
      "execution_count": 25,
      "id": "dmvehRsF_-Yp",
      "metadata": {
        "id": "dmvehRsF_-Yp"
      },
      "outputs": [],
      "source": [
        "target_names = ['Failure', 'Success']"
      ]
    },
    {
      "cell_type": "code",
      "execution_count": 26,
      "id": "ggERw86A_ZaU",
      "metadata": {
        "colab": {
          "base_uri": "https://localhost:8080/"
        },
        "id": "ggERw86A_ZaU",
        "outputId": "e8e8c3b2-e18f-4561-faeb-387c333901ec"
      },
      "outputs": [
        {
          "name": "stdout",
          "output_type": "stream",
          "text": [
            "Classification Report:\n",
            "              precision    recall  f1-score   support\n",
            "\n",
            "           0       0.79      0.64      0.71       512\n",
            "           1       0.96      0.98      0.97      4436\n",
            "\n",
            "    accuracy                           0.95      4948\n",
            "   macro avg       0.87      0.81      0.84      4948\n",
            "weighted avg       0.94      0.95      0.94      4948\n",
            "\n",
            "Classification Report:\n",
            "              precision    recall  f1-score   support\n",
            "\n",
            "           0       0.72      0.70      0.71       512\n",
            "           1       0.97      0.97      0.97      4436\n",
            "\n",
            "    accuracy                           0.94      4948\n",
            "   macro avg       0.84      0.83      0.84      4948\n",
            "weighted avg       0.94      0.94      0.94      4948\n",
            "\n",
            "Classification Report:\n",
            "              precision    recall  f1-score   support\n",
            "\n",
            "           0       0.82      0.61      0.70       512\n",
            "           1       0.96      0.98      0.97      4436\n",
            "\n",
            "    accuracy                           0.95      4948\n",
            "   macro avg       0.89      0.80      0.84      4948\n",
            "weighted avg       0.94      0.95      0.94      4948\n",
            "\n",
            "Classification Report:\n",
            "              precision    recall  f1-score   support\n",
            "\n",
            "           0       0.80      0.57      0.66       512\n",
            "           1       0.95      0.98      0.97      4436\n",
            "\n",
            "    accuracy                           0.94      4948\n",
            "   macro avg       0.87      0.77      0.81      4948\n",
            "weighted avg       0.94      0.94      0.94      4948\n",
            "\n"
          ]
        }
      ],
      "source": [
        "results = {}\n",
        "\n",
        "# Iterate over classifiers\n",
        "for name, clf in classifiers:\n",
        "    pipeline = Pipeline([\n",
        "        ('scaler', StandardScaler()),  # Standard scaler step\n",
        "        ('classifier', clf)  # Classifier step\n",
        "    ])\n",
        "\n",
        "    # Perform GridSearchCV\n",
        "    param_grid = param_grids[name]\n",
        "    grid_search = GridSearchCV(pipeline, param_grid, cv=5, n_jobs=-1)\n",
        "    grid_search.fit(X_train, y_train)\n",
        "\n",
        "    # Best model from GridSearchCV\n",
        "    best_model = grid_search.best_estimator_\n",
        "\n",
        "    # Predict on the test data with the best model\n",
        "    y_pred = best_model.predict(X_test)\n",
        "\n",
        "    report = classification_report(y_test, y_pred)\n",
        "    print(\"Classification Report:\")\n",
        "    print(report)\n",
        "\n",
        "    # Get classification report\n",
        "    report = classification_report(y_test, y_pred, target_names=target_names, output_dict=True)\n",
        "    results[name] = report"
      ]
    },
    {
      "cell_type": "code",
      "execution_count": 27,
      "id": "MXb7fTNLBS7E",
      "metadata": {
        "colab": {
          "base_uri": "https://localhost:8080/",
          "height": 338
        },
        "id": "MXb7fTNLBS7E",
        "outputId": "81544f05-a1d3-4fd5-c01d-d14f49d9d667"
      },
      "outputs": [
        {
          "data": {
            "image/png": "[encoded data removed]",
            "text/plain": [
              "<Figure size 2000x500 with 3 Axes>"
            ]
          },
          "metadata": {},
          "output_type": "display_data"
        }
      ],
      "source": [
        "metrics = ['precision', 'recall', 'f1-score']\n",
        "\n",
        "# Plotting the results\n",
        "fig, axes = plt.subplots(1, 3, figsize=(20, 5), sharey=True)\n",
        "\n",
        "for idx, metric in enumerate(metrics):\n",
        "    ax = axes[idx]\n",
        "    for clf_name, report in results.items():\n",
        "        values = [report[class_name][metric] for class_name in target_names]\n",
        "        ax.barh(target_names, values, label=clf_name, alpha=0.7)\n",
        "\n",
        "    ax.set_title(metric.capitalize())\n",
        "    ax.set_xlabel(metric.capitalize())\n",
        "    ax.legend()\n",
        "\n",
        "plt.tight_layout()\n",
        "plt.show()"
      ]
    }
  ],
  "metadata": {
    "colab": {
      "provenance": []
    },
    "kernelspec": {
      "display_name": "Python 3 (ipykernel)",
      "language": "python",
      "name": "python3"
    },
    "language_info": {
      "codemirror_mode": {
        "name": "ipython",
        "version": 3
      },
      "file_extension": ".py",
      "mimetype": "text/x-python",
      "name": "python",
      "nbconvert_exporter": "python",
      "pygments_lexer": "ipython3",
      "version": "3.12.2"
    }
  },
  "nbformat": 4,
  "nbformat_minor": 5
}
